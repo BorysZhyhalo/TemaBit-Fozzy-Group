{
 "cells": [
  {
   "cell_type": "code",
   "execution_count": 12,
   "metadata": {},
   "outputs": [],
   "source": [
    "import pandas as pd\n",
    "import numpy as np\n",
    "import matplotlib.pyplot as plt\n",
    "import seaborn as sns"
   ]
  },
  {
   "cell_type": "markdown",
   "metadata": {},
   "source": [
    "### EDA"
   ]
  },
  {
   "cell_type": "code",
   "execution_count": 13,
   "metadata": {},
   "outputs": [],
   "source": [
    "#Read the dataset\n",
    "df = pd.read_csv('df.csv')"
   ]
  },
  {
   "cell_type": "code",
   "execution_count": 14,
   "metadata": {},
   "outputs": [
    {
     "name": "stdout",
     "output_type": "stream",
     "text": [
      "Basic Information:\n",
      "<class 'pandas.core.frame.DataFrame'>\n",
      "RangeIndex: 226486 entries, 0 to 226485\n",
      "Data columns (total 6 columns):\n",
      " #   Column          Non-Null Count   Dtype  \n",
      "---  ------          --------------   -----  \n",
      " 0   Unnamed: 0      226486 non-null  int64  \n",
      " 1   date            226486 non-null  object \n",
      " 2   category_id     226486 non-null  int64  \n",
      " 3   sku_id          226486 non-null  int64  \n",
      " 4   sales_price     226486 non-null  float64\n",
      " 5   sales_quantity  226486 non-null  float64\n",
      "dtypes: float64(2), int64(3), object(1)\n",
      "memory usage: 10.4+ MB\n",
      "None\n"
     ]
    }
   ],
   "source": [
    "# Display basic information about the df set\n",
    "print(\"Basic Information:\")\n",
    "print(df .info())"
   ]
  },
  {
   "cell_type": "code",
   "execution_count": 15,
   "metadata": {},
   "outputs": [
    {
     "name": "stdout",
     "output_type": "stream",
     "text": [
      "\n",
      "First few rows:\n",
      "   Unnamed: 0        date  category_id  sku_id  sales_price  sales_quantity\n",
      "0       78161  2016-11-25            7    1108       457.60             1.0\n",
      "1       81079  2016-11-18            7    2999       470.60             1.0\n",
      "2       81177  2016-11-18            7    1428       717.60             1.0\n",
      "3       81292  2016-11-18            7    3923       383.50             1.0\n",
      "4       81416  2016-11-18           17    8075        18.85             2.0\n"
     ]
    }
   ],
   "source": [
    "# Display the first few rows of the dataset\n",
    "print(\"\\nFirst few rows:\")\n",
    "print(df.head())"
   ]
  },
  {
   "cell_type": "code",
   "execution_count": 16,
   "metadata": {},
   "outputs": [
    {
     "name": "stdout",
     "output_type": "stream",
     "text": [
      "\n",
      "Missing values in each column:\n",
      "Unnamed: 0        0\n",
      "date              0\n",
      "category_id       0\n",
      "sku_id            0\n",
      "sales_price       0\n",
      "sales_quantity    0\n",
      "dtype: int64\n"
     ]
    }
   ],
   "source": [
    "# Check for missing values\n",
    "print(\"\\nMissing values in each column:\")\n",
    "print(df.isnull().sum())"
   ]
  },
  {
   "cell_type": "code",
   "execution_count": 17,
   "metadata": {},
   "outputs": [
    {
     "data": {
      "text/html": [
       "<div>\n",
       "<style scoped>\n",
       "    .dataframe tbody tr th:only-of-type {\n",
       "        vertical-align: middle;\n",
       "    }\n",
       "\n",
       "    .dataframe tbody tr th {\n",
       "        vertical-align: top;\n",
       "    }\n",
       "\n",
       "    .dataframe thead th {\n",
       "        text-align: right;\n",
       "    }\n",
       "</style>\n",
       "<table border=\"1\" class=\"dataframe\">\n",
       "  <thead>\n",
       "    <tr style=\"text-align: right;\">\n",
       "      <th></th>\n",
       "      <th>Client_Id</th>\n",
       "      <th>date</th>\n",
       "      <th>category_id</th>\n",
       "      <th>sku_id</th>\n",
       "      <th>sales_price</th>\n",
       "      <th>sales_quantity</th>\n",
       "    </tr>\n",
       "  </thead>\n",
       "  <tbody>\n",
       "    <tr>\n",
       "      <th>0</th>\n",
       "      <td>78161</td>\n",
       "      <td>2016-11-25</td>\n",
       "      <td>7</td>\n",
       "      <td>1108</td>\n",
       "      <td>457.60</td>\n",
       "      <td>1.0</td>\n",
       "    </tr>\n",
       "    <tr>\n",
       "      <th>1</th>\n",
       "      <td>81079</td>\n",
       "      <td>2016-11-18</td>\n",
       "      <td>7</td>\n",
       "      <td>2999</td>\n",
       "      <td>470.60</td>\n",
       "      <td>1.0</td>\n",
       "    </tr>\n",
       "    <tr>\n",
       "      <th>2</th>\n",
       "      <td>81177</td>\n",
       "      <td>2016-11-18</td>\n",
       "      <td>7</td>\n",
       "      <td>1428</td>\n",
       "      <td>717.60</td>\n",
       "      <td>1.0</td>\n",
       "    </tr>\n",
       "    <tr>\n",
       "      <th>3</th>\n",
       "      <td>81292</td>\n",
       "      <td>2016-11-18</td>\n",
       "      <td>7</td>\n",
       "      <td>3923</td>\n",
       "      <td>383.50</td>\n",
       "      <td>1.0</td>\n",
       "    </tr>\n",
       "    <tr>\n",
       "      <th>4</th>\n",
       "      <td>81416</td>\n",
       "      <td>2016-11-18</td>\n",
       "      <td>17</td>\n",
       "      <td>8075</td>\n",
       "      <td>18.85</td>\n",
       "      <td>2.0</td>\n",
       "    </tr>\n",
       "    <tr>\n",
       "      <th>...</th>\n",
       "      <td>...</td>\n",
       "      <td>...</td>\n",
       "      <td>...</td>\n",
       "      <td>...</td>\n",
       "      <td>...</td>\n",
       "      <td>...</td>\n",
       "    </tr>\n",
       "    <tr>\n",
       "      <th>226481</th>\n",
       "      <td>20778441</td>\n",
       "      <td>2020-10-14</td>\n",
       "      <td>7</td>\n",
       "      <td>21442</td>\n",
       "      <td>570.70</td>\n",
       "      <td>1.0</td>\n",
       "    </tr>\n",
       "    <tr>\n",
       "      <th>226482</th>\n",
       "      <td>20778451</td>\n",
       "      <td>2020-10-14</td>\n",
       "      <td>7</td>\n",
       "      <td>502340</td>\n",
       "      <td>505.70</td>\n",
       "      <td>3.0</td>\n",
       "    </tr>\n",
       "    <tr>\n",
       "      <th>226483</th>\n",
       "      <td>20778611</td>\n",
       "      <td>2020-10-14</td>\n",
       "      <td>7</td>\n",
       "      <td>723588</td>\n",
       "      <td>401.70</td>\n",
       "      <td>3.0</td>\n",
       "    </tr>\n",
       "    <tr>\n",
       "      <th>226484</th>\n",
       "      <td>20779790</td>\n",
       "      <td>2020-10-17</td>\n",
       "      <td>7</td>\n",
       "      <td>792124</td>\n",
       "      <td>778.70</td>\n",
       "      <td>1.0</td>\n",
       "    </tr>\n",
       "    <tr>\n",
       "      <th>226485</th>\n",
       "      <td>20794630</td>\n",
       "      <td>2020-10-23</td>\n",
       "      <td>7</td>\n",
       "      <td>798049</td>\n",
       "      <td>219.70</td>\n",
       "      <td>1.0</td>\n",
       "    </tr>\n",
       "  </tbody>\n",
       "</table>\n",
       "<p>226486 rows × 6 columns</p>\n",
       "</div>"
      ],
      "text/plain": [
       "        Client_Id        date  category_id  sku_id  sales_price  \\\n",
       "0           78161  2016-11-25            7    1108       457.60   \n",
       "1           81079  2016-11-18            7    2999       470.60   \n",
       "2           81177  2016-11-18            7    1428       717.60   \n",
       "3           81292  2016-11-18            7    3923       383.50   \n",
       "4           81416  2016-11-18           17    8075        18.85   \n",
       "...           ...         ...          ...     ...          ...   \n",
       "226481   20778441  2020-10-14            7   21442       570.70   \n",
       "226482   20778451  2020-10-14            7  502340       505.70   \n",
       "226483   20778611  2020-10-14            7  723588       401.70   \n",
       "226484   20779790  2020-10-17            7  792124       778.70   \n",
       "226485   20794630  2020-10-23            7  798049       219.70   \n",
       "\n",
       "        sales_quantity  \n",
       "0                  1.0  \n",
       "1                  1.0  \n",
       "2                  1.0  \n",
       "3                  1.0  \n",
       "4                  2.0  \n",
       "...                ...  \n",
       "226481             1.0  \n",
       "226482             3.0  \n",
       "226483             3.0  \n",
       "226484             1.0  \n",
       "226485             1.0  \n",
       "\n",
       "[226486 rows x 6 columns]"
      ]
     },
     "execution_count": 17,
     "metadata": {},
     "output_type": "execute_result"
    }
   ],
   "source": [
    "#Rename the 'Unnamed: 0' column to 'Client_Id'\n",
    "df.rename(columns={'Unnamed: 0': 'Client_Id'}, inplace=True)\n",
    "\n",
    "df"
   ]
  },
  {
   "cell_type": "code",
   "execution_count": 18,
   "metadata": {},
   "outputs": [
    {
     "data": {
      "text/html": [
       "<div>\n",
       "<style scoped>\n",
       "    .dataframe tbody tr th:only-of-type {\n",
       "        vertical-align: middle;\n",
       "    }\n",
       "\n",
       "    .dataframe tbody tr th {\n",
       "        vertical-align: top;\n",
       "    }\n",
       "\n",
       "    .dataframe thead th {\n",
       "        text-align: right;\n",
       "    }\n",
       "</style>\n",
       "<table border=\"1\" class=\"dataframe\">\n",
       "  <thead>\n",
       "    <tr style=\"text-align: right;\">\n",
       "      <th></th>\n",
       "      <th>Client_Id</th>\n",
       "      <th>category_id</th>\n",
       "      <th>sku_id</th>\n",
       "      <th>sales_price</th>\n",
       "      <th>sales_quantity</th>\n",
       "    </tr>\n",
       "  </thead>\n",
       "  <tbody>\n",
       "    <tr>\n",
       "      <th>count</th>\n",
       "      <td>2.264860e+05</td>\n",
       "      <td>226486.000000</td>\n",
       "      <td>226486.000000</td>\n",
       "      <td>226486.000000</td>\n",
       "      <td>226486.000000</td>\n",
       "    </tr>\n",
       "    <tr>\n",
       "      <th>mean</th>\n",
       "      <td>9.875883e+06</td>\n",
       "      <td>15.069594</td>\n",
       "      <td>497813.898607</td>\n",
       "      <td>109.033102</td>\n",
       "      <td>16.078857</td>\n",
       "    </tr>\n",
       "    <tr>\n",
       "      <th>std</th>\n",
       "      <td>5.664001e+06</td>\n",
       "      <td>4.625731</td>\n",
       "      <td>242446.818578</td>\n",
       "      <td>151.500911</td>\n",
       "      <td>184.248121</td>\n",
       "    </tr>\n",
       "    <tr>\n",
       "      <th>min</th>\n",
       "      <td>7.816100e+04</td>\n",
       "      <td>7.000000</td>\n",
       "      <td>1045.000000</td>\n",
       "      <td>1.027000</td>\n",
       "      <td>1.000000</td>\n",
       "    </tr>\n",
       "    <tr>\n",
       "      <th>25%</th>\n",
       "      <td>5.038020e+06</td>\n",
       "      <td>17.000000</td>\n",
       "      <td>398064.000000</td>\n",
       "      <td>38.220000</td>\n",
       "      <td>1.000000</td>\n",
       "    </tr>\n",
       "    <tr>\n",
       "      <th>50%</th>\n",
       "      <td>9.677966e+06</td>\n",
       "      <td>17.000000</td>\n",
       "      <td>550996.000000</td>\n",
       "      <td>51.350000</td>\n",
       "      <td>3.000000</td>\n",
       "    </tr>\n",
       "    <tr>\n",
       "      <th>75%</th>\n",
       "      <td>1.475875e+07</td>\n",
       "      <td>17.000000</td>\n",
       "      <td>702116.000000</td>\n",
       "      <td>71.500000</td>\n",
       "      <td>5.000000</td>\n",
       "    </tr>\n",
       "    <tr>\n",
       "      <th>max</th>\n",
       "      <td>2.079463e+07</td>\n",
       "      <td>23.000000</td>\n",
       "      <td>838924.000000</td>\n",
       "      <td>2923.700000</td>\n",
       "      <td>8069.000000</td>\n",
       "    </tr>\n",
       "  </tbody>\n",
       "</table>\n",
       "</div>"
      ],
      "text/plain": [
       "          Client_Id    category_id         sku_id    sales_price  \\\n",
       "count  2.264860e+05  226486.000000  226486.000000  226486.000000   \n",
       "mean   9.875883e+06      15.069594  497813.898607     109.033102   \n",
       "std    5.664001e+06       4.625731  242446.818578     151.500911   \n",
       "min    7.816100e+04       7.000000    1045.000000       1.027000   \n",
       "25%    5.038020e+06      17.000000  398064.000000      38.220000   \n",
       "50%    9.677966e+06      17.000000  550996.000000      51.350000   \n",
       "75%    1.475875e+07      17.000000  702116.000000      71.500000   \n",
       "max    2.079463e+07      23.000000  838924.000000    2923.700000   \n",
       "\n",
       "       sales_quantity  \n",
       "count   226486.000000  \n",
       "mean        16.078857  \n",
       "std        184.248121  \n",
       "min          1.000000  \n",
       "25%          1.000000  \n",
       "50%          3.000000  \n",
       "75%          5.000000  \n",
       "max       8069.000000  "
      ]
     },
     "execution_count": 18,
     "metadata": {},
     "output_type": "execute_result"
    }
   ],
   "source": [
    "df.describe()\n",
    "#we don't have negative values in sales_price and sales_quantity columns"
   ]
  },
  {
   "cell_type": "code",
   "execution_count": 19,
   "metadata": {},
   "outputs": [
    {
     "data": {
      "text/plain": [
       "category_id\n",
       "17    160797\n",
       "7      51959\n",
       "23     13730\n",
       "Name: count, dtype: int64"
      ]
     },
     "execution_count": 19,
     "metadata": {},
     "output_type": "execute_result"
    }
   ],
   "source": [
    "#check if the category_id is balanced\n",
    "category_id_counts = df['category_id'].value_counts()\n",
    "category_id_counts"
   ]
  },
  {
   "cell_type": "code",
   "execution_count": null,
   "metadata": {},
   "outputs": [],
   "source": []
  }
 ],
 "metadata": {
  "kernelspec": {
   "display_name": "base",
   "language": "python",
   "name": "python3"
  },
  "language_info": {
   "codemirror_mode": {
    "name": "ipython",
    "version": 3
   },
   "file_extension": ".py",
   "mimetype": "text/x-python",
   "name": "python",
   "nbconvert_exporter": "python",
   "pygments_lexer": "ipython3",
   "version": "3.11.5"
  }
 },
 "nbformat": 4,
 "nbformat_minor": 2
}
