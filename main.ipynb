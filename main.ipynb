{
 "cells": [
  {
   "cell_type": "code",
   "execution_count": 20,
   "metadata": {},
   "outputs": [],
   "source": [
    "import pandas as pd\n",
    "import numpy as np\n",
    "import matplotlib.pyplot as plt\n",
    "import seaborn as sns"
   ]
  },
  {
   "cell_type": "markdown",
   "metadata": {},
   "source": [
    "### EDA"
   ]
  },
  {
   "cell_type": "code",
   "execution_count": 21,
   "metadata": {},
   "outputs": [],
   "source": [
    "#Read the dataset\n",
    "df = pd.read_csv('df.csv')"
   ]
  },
  {
   "cell_type": "code",
   "execution_count": 22,
   "metadata": {},
   "outputs": [
    {
     "name": "stdout",
     "output_type": "stream",
     "text": [
      "Basic Information:\n",
      "<class 'pandas.core.frame.DataFrame'>\n",
      "RangeIndex: 226486 entries, 0 to 226485\n",
      "Data columns (total 6 columns):\n",
      " #   Column          Non-Null Count   Dtype  \n",
      "---  ------          --------------   -----  \n",
      " 0   Unnamed: 0      226486 non-null  int64  \n",
      " 1   date            226486 non-null  object \n",
      " 2   category_id     226486 non-null  int64  \n",
      " 3   sku_id          226486 non-null  int64  \n",
      " 4   sales_price     226486 non-null  float64\n",
      " 5   sales_quantity  226486 non-null  float64\n",
      "dtypes: float64(2), int64(3), object(1)\n",
      "memory usage: 10.4+ MB\n",
      "None\n"
     ]
    }
   ],
   "source": [
    "# Display basic information about the df set\n",
    "print(\"Basic Information:\")\n",
    "print(df .info())"
   ]
  },
  {
   "cell_type": "code",
   "execution_count": 23,
   "metadata": {},
   "outputs": [
    {
     "name": "stdout",
     "output_type": "stream",
     "text": [
      "\n",
      "First few rows:\n",
      "   Unnamed: 0        date  category_id  sku_id  sales_price  sales_quantity\n",
      "0       78161  2016-11-25            7    1108       457.60             1.0\n",
      "1       81079  2016-11-18            7    2999       470.60             1.0\n",
      "2       81177  2016-11-18            7    1428       717.60             1.0\n",
      "3       81292  2016-11-18            7    3923       383.50             1.0\n",
      "4       81416  2016-11-18           17    8075        18.85             2.0\n"
     ]
    }
   ],
   "source": [
    "# Display the first few rows of the dataset\n",
    "print(\"\\nFirst few rows:\")\n",
    "print(df.head())"
   ]
  },
  {
   "cell_type": "code",
   "execution_count": 24,
   "metadata": {},
   "outputs": [
    {
     "name": "stdout",
     "output_type": "stream",
     "text": [
      "\n",
      "Missing values in each column:\n",
      "Unnamed: 0        0\n",
      "date              0\n",
      "category_id       0\n",
      "sku_id            0\n",
      "sales_price       0\n",
      "sales_quantity    0\n",
      "dtype: int64\n"
     ]
    }
   ],
   "source": [
    "# Check for missing values\n",
    "print(\"\\nMissing values in each column:\")\n",
    "print(df.isnull().sum())"
   ]
  },
  {
   "cell_type": "markdown",
   "metadata": {},
   "source": [
    "* Remove the Unnamed: 0 column because it is not needed."
   ]
  },
  {
   "cell_type": "code",
   "execution_count": 25,
   "metadata": {},
   "outputs": [
    {
     "data": {
      "text/html": [
       "<div>\n",
       "<style scoped>\n",
       "    .dataframe tbody tr th:only-of-type {\n",
       "        vertical-align: middle;\n",
       "    }\n",
       "\n",
       "    .dataframe tbody tr th {\n",
       "        vertical-align: top;\n",
       "    }\n",
       "\n",
       "    .dataframe thead th {\n",
       "        text-align: right;\n",
       "    }\n",
       "</style>\n",
       "<table border=\"1\" class=\"dataframe\">\n",
       "  <thead>\n",
       "    <tr style=\"text-align: right;\">\n",
       "      <th></th>\n",
       "      <th>date</th>\n",
       "      <th>category_id</th>\n",
       "      <th>sku_id</th>\n",
       "      <th>sales_price</th>\n",
       "      <th>sales_quantity</th>\n",
       "    </tr>\n",
       "  </thead>\n",
       "  <tbody>\n",
       "    <tr>\n",
       "      <th>0</th>\n",
       "      <td>2016-11-25</td>\n",
       "      <td>7</td>\n",
       "      <td>1108</td>\n",
       "      <td>457.60</td>\n",
       "      <td>1.0</td>\n",
       "    </tr>\n",
       "    <tr>\n",
       "      <th>1</th>\n",
       "      <td>2016-11-18</td>\n",
       "      <td>7</td>\n",
       "      <td>2999</td>\n",
       "      <td>470.60</td>\n",
       "      <td>1.0</td>\n",
       "    </tr>\n",
       "    <tr>\n",
       "      <th>2</th>\n",
       "      <td>2016-11-18</td>\n",
       "      <td>7</td>\n",
       "      <td>1428</td>\n",
       "      <td>717.60</td>\n",
       "      <td>1.0</td>\n",
       "    </tr>\n",
       "    <tr>\n",
       "      <th>3</th>\n",
       "      <td>2016-11-18</td>\n",
       "      <td>7</td>\n",
       "      <td>3923</td>\n",
       "      <td>383.50</td>\n",
       "      <td>1.0</td>\n",
       "    </tr>\n",
       "    <tr>\n",
       "      <th>4</th>\n",
       "      <td>2016-11-18</td>\n",
       "      <td>17</td>\n",
       "      <td>8075</td>\n",
       "      <td>18.85</td>\n",
       "      <td>2.0</td>\n",
       "    </tr>\n",
       "    <tr>\n",
       "      <th>...</th>\n",
       "      <td>...</td>\n",
       "      <td>...</td>\n",
       "      <td>...</td>\n",
       "      <td>...</td>\n",
       "      <td>...</td>\n",
       "    </tr>\n",
       "    <tr>\n",
       "      <th>226481</th>\n",
       "      <td>2020-10-14</td>\n",
       "      <td>7</td>\n",
       "      <td>21442</td>\n",
       "      <td>570.70</td>\n",
       "      <td>1.0</td>\n",
       "    </tr>\n",
       "    <tr>\n",
       "      <th>226482</th>\n",
       "      <td>2020-10-14</td>\n",
       "      <td>7</td>\n",
       "      <td>502340</td>\n",
       "      <td>505.70</td>\n",
       "      <td>3.0</td>\n",
       "    </tr>\n",
       "    <tr>\n",
       "      <th>226483</th>\n",
       "      <td>2020-10-14</td>\n",
       "      <td>7</td>\n",
       "      <td>723588</td>\n",
       "      <td>401.70</td>\n",
       "      <td>3.0</td>\n",
       "    </tr>\n",
       "    <tr>\n",
       "      <th>226484</th>\n",
       "      <td>2020-10-17</td>\n",
       "      <td>7</td>\n",
       "      <td>792124</td>\n",
       "      <td>778.70</td>\n",
       "      <td>1.0</td>\n",
       "    </tr>\n",
       "    <tr>\n",
       "      <th>226485</th>\n",
       "      <td>2020-10-23</td>\n",
       "      <td>7</td>\n",
       "      <td>798049</td>\n",
       "      <td>219.70</td>\n",
       "      <td>1.0</td>\n",
       "    </tr>\n",
       "  </tbody>\n",
       "</table>\n",
       "<p>226486 rows × 5 columns</p>\n",
       "</div>"
      ],
      "text/plain": [
       "              date  category_id  sku_id  sales_price  sales_quantity\n",
       "0       2016-11-25            7    1108       457.60             1.0\n",
       "1       2016-11-18            7    2999       470.60             1.0\n",
       "2       2016-11-18            7    1428       717.60             1.0\n",
       "3       2016-11-18            7    3923       383.50             1.0\n",
       "4       2016-11-18           17    8075        18.85             2.0\n",
       "...            ...          ...     ...          ...             ...\n",
       "226481  2020-10-14            7   21442       570.70             1.0\n",
       "226482  2020-10-14            7  502340       505.70             3.0\n",
       "226483  2020-10-14            7  723588       401.70             3.0\n",
       "226484  2020-10-17            7  792124       778.70             1.0\n",
       "226485  2020-10-23            7  798049       219.70             1.0\n",
       "\n",
       "[226486 rows x 5 columns]"
      ]
     },
     "execution_count": 25,
     "metadata": {},
     "output_type": "execute_result"
    }
   ],
   "source": [
    "#Deleting column 'Unnamed' - this data is not nessesary\n",
    "df = df.drop(columns=['Unnamed: 0'])\n",
    "\n",
    "df"
   ]
  },
  {
   "cell_type": "code",
   "execution_count": 28,
   "metadata": {},
   "outputs": [
    {
     "data": {
      "text/html": [
       "<div>\n",
       "<style scoped>\n",
       "    .dataframe tbody tr th:only-of-type {\n",
       "        vertical-align: middle;\n",
       "    }\n",
       "\n",
       "    .dataframe tbody tr th {\n",
       "        vertical-align: top;\n",
       "    }\n",
       "\n",
       "    .dataframe thead th {\n",
       "        text-align: right;\n",
       "    }\n",
       "</style>\n",
       "<table border=\"1\" class=\"dataframe\">\n",
       "  <thead>\n",
       "    <tr style=\"text-align: right;\">\n",
       "      <th></th>\n",
       "      <th>category_id</th>\n",
       "      <th>sku_id</th>\n",
       "      <th>sales_price</th>\n",
       "      <th>sales_quantity</th>\n",
       "    </tr>\n",
       "  </thead>\n",
       "  <tbody>\n",
       "    <tr>\n",
       "      <th>count</th>\n",
       "      <td>226486.000000</td>\n",
       "      <td>226486.000000</td>\n",
       "      <td>226486.000000</td>\n",
       "      <td>226486.000000</td>\n",
       "    </tr>\n",
       "    <tr>\n",
       "      <th>mean</th>\n",
       "      <td>15.069594</td>\n",
       "      <td>497813.898607</td>\n",
       "      <td>109.033102</td>\n",
       "      <td>16.078857</td>\n",
       "    </tr>\n",
       "    <tr>\n",
       "      <th>std</th>\n",
       "      <td>4.625731</td>\n",
       "      <td>242446.818578</td>\n",
       "      <td>151.500911</td>\n",
       "      <td>184.248121</td>\n",
       "    </tr>\n",
       "    <tr>\n",
       "      <th>min</th>\n",
       "      <td>7.000000</td>\n",
       "      <td>1045.000000</td>\n",
       "      <td>1.027000</td>\n",
       "      <td>1.000000</td>\n",
       "    </tr>\n",
       "    <tr>\n",
       "      <th>25%</th>\n",
       "      <td>17.000000</td>\n",
       "      <td>398064.000000</td>\n",
       "      <td>38.220000</td>\n",
       "      <td>1.000000</td>\n",
       "    </tr>\n",
       "    <tr>\n",
       "      <th>50%</th>\n",
       "      <td>17.000000</td>\n",
       "      <td>550996.000000</td>\n",
       "      <td>51.350000</td>\n",
       "      <td>3.000000</td>\n",
       "    </tr>\n",
       "    <tr>\n",
       "      <th>75%</th>\n",
       "      <td>17.000000</td>\n",
       "      <td>702116.000000</td>\n",
       "      <td>71.500000</td>\n",
       "      <td>5.000000</td>\n",
       "    </tr>\n",
       "    <tr>\n",
       "      <th>max</th>\n",
       "      <td>23.000000</td>\n",
       "      <td>838924.000000</td>\n",
       "      <td>2923.700000</td>\n",
       "      <td>8069.000000</td>\n",
       "    </tr>\n",
       "  </tbody>\n",
       "</table>\n",
       "</div>"
      ],
      "text/plain": [
       "         category_id         sku_id    sales_price  sales_quantity\n",
       "count  226486.000000  226486.000000  226486.000000   226486.000000\n",
       "mean       15.069594  497813.898607     109.033102       16.078857\n",
       "std         4.625731  242446.818578     151.500911      184.248121\n",
       "min         7.000000    1045.000000       1.027000        1.000000\n",
       "25%        17.000000  398064.000000      38.220000        1.000000\n",
       "50%        17.000000  550996.000000      51.350000        3.000000\n",
       "75%        17.000000  702116.000000      71.500000        5.000000\n",
       "max        23.000000  838924.000000    2923.700000     8069.000000"
      ]
     },
     "execution_count": 28,
     "metadata": {},
     "output_type": "execute_result"
    }
   ],
   "source": [
    "df.describe()\n",
    "#we don't have negative values in sales_price and sales_quantity columns"
   ]
  },
  {
   "cell_type": "code",
   "execution_count": 29,
   "metadata": {},
   "outputs": [
    {
     "data": {
      "text/plain": [
       "category_id\n",
       "17    160797\n",
       "7      51959\n",
       "23     13730\n",
       "Name: count, dtype: int64"
      ]
     },
     "execution_count": 29,
     "metadata": {},
     "output_type": "execute_result"
    }
   ],
   "source": [
    "#check if the category_id is balanced\n",
    "category_id_counts = df['category_id'].value_counts()\n",
    "category_id_counts"
   ]
  },
  {
   "cell_type": "markdown",
   "metadata": {},
   "source": [
    "* Let's convert the date column to a date format."
   ]
  },
  {
   "cell_type": "code",
   "execution_count": 30,
   "metadata": {},
   "outputs": [],
   "source": [
    "#Transforming column 'date' on datetime format\n",
    "df['date'] = pd.to_datetime(df['date'])"
   ]
  }
 ],
 "metadata": {
  "kernelspec": {
   "display_name": "base",
   "language": "python",
   "name": "python3"
  },
  "language_info": {
   "codemirror_mode": {
    "name": "ipython",
    "version": 3
   },
   "file_extension": ".py",
   "mimetype": "text/x-python",
   "name": "python",
   "nbconvert_exporter": "python",
   "pygments_lexer": "ipython3",
   "version": "3.11.5"
  }
 },
 "nbformat": 4,
 "nbformat_minor": 2
}
