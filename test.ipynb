{
 "cells": [
  {
   "cell_type": "code",
   "execution_count": 20,
   "metadata": {},
   "outputs": [],
   "source": [
    "import pandas as pd\n",
    "import joblib\n",
    "from sklearn.preprocessing import StandardScaler, OneHotEncoder\n",
    "from sklearn.impute import SimpleImputer"
   ]
  },
  {
   "cell_type": "code",
   "execution_count": 21,
   "metadata": {},
   "outputs": [],
   "source": [
    "#Downloading model and features parameters\n",
    "model = joblib.load('random_forest_feature_selection_model.pkl')\n",
    "feature_names = joblib.load('feature_names.pkl')"
   ]
  },
  {
   "cell_type": "code",
   "execution_count": 22,
   "metadata": {},
   "outputs": [],
   "source": [
    "#Reading df_future.csv\n",
    "df_future = pd.read_csv('df_future.csv') "
   ]
  },
  {
   "cell_type": "code",
   "execution_count": 23,
   "metadata": {},
   "outputs": [],
   "source": [
    "#Transforming column 'date' on datetime format\n",
    "df_future['date'] = pd.to_datetime(df_future['date'])"
   ]
  },
  {
   "cell_type": "code",
   "execution_count": 24,
   "metadata": {},
   "outputs": [],
   "source": [
    "#Selecting data from 1/11/2020 till 14/11/2020\n",
    "df_future_filtered = df_future[(df_future['date'] >= '2020-11-01') & (df_future['date'] <= '2020-11-14')]"
   ]
  },
  {
   "cell_type": "code",
   "execution_count": 25,
   "metadata": {},
   "outputs": [],
   "source": [
    "#Deleting column 'Unnamed' - this data is not nessesary\n",
    "if 'Unnamed: 0' in df_future_filtered.columns:\n",
    "    df_future_filtered = df_future_filtered.drop(columns=['Unnamed: 0'])"
   ]
  },
  {
   "cell_type": "code",
   "execution_count": 26,
   "metadata": {},
   "outputs": [],
   "source": [
    "#Create day indicators for week, month, year, day and day off\n",
    "df_future_filtered['day_of_week'] = df_future_filtered['date'].dt.dayofweek\n",
    "df_future_filtered['is_weekend'] = df_future_filtered['day_of_week'].apply(lambda x: 1 if x >= 5 else 0)\n",
    "df_future_filtered['day_of_month'] = df_future_filtered['date'].dt.day\n",
    "df_future_filtered['month'] = df_future_filtered['date'].dt.month\n",
    "df_future_filtered['week_of_year'] = df_future_filtered['date'].dt.isocalendar().week\n",
    "df_future_filtered['year'] = df_future_filtered['date'].dt.year"
   ]
  },
  {
   "cell_type": "code",
   "execution_count": 27,
   "metadata": {},
   "outputs": [],
   "source": [
    "#Encoding the data using the On-Hot Encoding for categorical variables\n",
    "categorical_features = ['category_id', 'day_of_week', 'is_weekend', 'day_of_month', 'month', 'week_of_year', 'year']\n",
    "encoder = OneHotEncoder(sparse_output=False, handle_unknown='ignore')\n",
    "encoded_features = encoder.fit_transform(df_future_filtered[categorical_features])\n",
    "encoded_df = pd.DataFrame(encoded_features, columns=encoder.get_feature_names_out(categorical_features))"
   ]
  },
  {
   "cell_type": "code",
   "execution_count": 28,
   "metadata": {},
   "outputs": [],
   "source": [
    "#Concatenate DataFrame\n",
    "df_future_encoded = pd.concat([df_future_filtered.reset_index(drop=True), encoded_df.reset_index(drop=True)], axis=1)\n",
    "df_future_encoded = df_future_encoded.drop(columns=categorical_features)"
   ]
  },
  {
   "cell_type": "code",
   "execution_count": 29,
   "metadata": {},
   "outputs": [],
   "source": [
    "#Deleting columns'sales_quantity' before filtering\n",
    "if 'sales_quantity' in df_future_encoded.columns:\n",
    "    df_future_encoded = df_future_encoded.drop(columns=['sales_quantity'])"
   ]
  },
  {
   "cell_type": "code",
   "execution_count": 30,
   "metadata": {},
   "outputs": [],
   "source": [
    "#Delete all datetime columns before filling in missing values\n",
    "datetime_columns = df_future_encoded.select_dtypes(include=['datetime64']).columns\n",
    "df_future_encoded = df_future_encoded.drop(columns=datetime_columns)"
   ]
  },
  {
   "cell_type": "code",
   "execution_count": 31,
   "metadata": {},
   "outputs": [],
   "source": [
    "#Filling missing values\n",
    "imputer = SimpleImputer(strategy='mean')\n",
    "df_future_imputed = imputer.fit_transform(df_future_encoded)"
   ]
  },
  {
   "cell_type": "code",
   "execution_count": 32,
   "metadata": {},
   "outputs": [],
   "source": [
    "#Scaling data\n",
    "scaler = StandardScaler()\n",
    "X_future = scaler.fit_transform(df_future_imputed)"
   ]
  },
  {
   "cell_type": "code",
   "execution_count": 33,
   "metadata": {},
   "outputs": [],
   "source": [
    "#Create a DataFrame with the correct column names\n",
    "X_future_df = pd.DataFrame(X_future, columns=df_future_encoded.columns)"
   ]
  },
  {
   "cell_type": "code",
   "execution_count": 34,
   "metadata": {},
   "outputs": [],
   "source": [
    "#Ensure that the new dataset contains only the features used during model training\n",
    "X_future_aligned = X_future_df.reindex(columns=feature_names, fill_value=0)"
   ]
  },
  {
   "cell_type": "code",
   "execution_count": 35,
   "metadata": {},
   "outputs": [],
   "source": [
    "#Predict\n",
    "future_predictions = model.predict(X_future_aligned)"
   ]
  },
  {
   "cell_type": "code",
   "execution_count": 36,
   "metadata": {},
   "outputs": [],
   "source": [
    "#Saving output to test_df\n",
    "test_df = df_future_filtered[['date', 'sku_id']].copy()\n",
    "test_df['predicted_sales_quantity'] = future_predictions"
   ]
  },
  {
   "cell_type": "code",
   "execution_count": 37,
   "metadata": {},
   "outputs": [],
   "source": [
    "#Saving test_df data\n",
    "test_df.to_csv('test_df.csv', index=False)"
   ]
  },
  {
   "cell_type": "code",
   "execution_count": 38,
   "metadata": {},
   "outputs": [
    {
     "name": "stdout",
     "output_type": "stream",
     "text": [
      "        date  sku_id  predicted_sales_quantity\n",
      "0 2020-11-01    1045                  1.544798\n",
      "1 2020-11-02    1045                  1.689202\n",
      "2 2020-11-03    1045                  1.689202\n",
      "3 2020-11-04    1045                  1.689202\n",
      "4 2020-11-05    1045                  1.689202\n"
     ]
    }
   ],
   "source": [
    "#Presenting first 5 rows\n",
    "print(test_df.head())"
   ]
  }
 ],
 "metadata": {
  "kernelspec": {
   "display_name": "base",
   "language": "python",
   "name": "python3"
  },
  "language_info": {
   "codemirror_mode": {
    "name": "ipython",
    "version": 3
   },
   "file_extension": ".py",
   "mimetype": "text/x-python",
   "name": "python",
   "nbconvert_exporter": "python",
   "pygments_lexer": "ipython3",
   "version": "3.11.5"
  }
 },
 "nbformat": 4,
 "nbformat_minor": 2
}
